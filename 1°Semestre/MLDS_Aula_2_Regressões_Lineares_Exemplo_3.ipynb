{
  "nbformat": 4,
  "nbformat_minor": 0,
  "metadata": {
    "colab": {
      "provenance": []
    },
    "kernelspec": {
      "name": "python3",
      "display_name": "Python 3"
    },
    "language_info": {
      "name": "python"
    }
  },
  "cells": [
    {
      "cell_type": "code",
      "execution_count": 16,
      "metadata": {
        "colab": {
          "base_uri": "https://localhost:8080/"
        },
        "id": "NLMDZwtC_vAU",
        "outputId": "bc6af6b9-690b-4e1d-afd1-1149270749d6"
      },
      "outputs": [
        {
          "output_type": "stream",
          "name": "stdout",
          "text": [
            "0.09396469590308254\n",
            "                            OLS Regression Results                            \n",
            "==============================================================================\n",
            "Dep. Variable:                      y   R-squared:                       0.094\n",
            "Model:                            OLS   Adj. R-squared:                  0.081\n",
            "Method:                 Least Squares   F-statistic:                     7.536\n",
            "Date:                Mon, 26 Feb 2024   Prob (F-statistic):           8.05e-05\n",
            "Time:                        14:16:55   Log-Likelihood:                -706.66\n",
            "No. Observations:                 222   AIC:                             1421.\n",
            "Df Residuals:                     218   BIC:                             1435.\n",
            "Df Model:                           3                                         \n",
            "Covariance Type:            nonrobust                                         \n",
            "==============================================================================\n",
            "                 coef    std err          t      P>|t|      [0.025      0.975]\n",
            "------------------------------------------------------------------------------\n",
            "x1            -1.6707      0.935     -1.787      0.075      -3.513       0.172\n",
            "x2            -0.1250      0.029     -4.284      0.000      -0.183      -0.068\n",
            "const          8.1679      1.920      4.253      0.000       4.383      11.953\n",
            "x3             0.7769      0.892      0.871      0.385      -0.981       2.535\n",
            "==============================================================================\n",
            "Omnibus:                       43.497   Durbin-Watson:                   1.787\n",
            "Prob(Omnibus):                  0.000   Jarque-Bera (JB):               69.802\n",
            "Skew:                           1.077   Prob(JB):                     6.96e-16\n",
            "Kurtosis:                       4.704   Cond. No.                         311.\n",
            "==============================================================================\n",
            "\n",
            "Notes:\n",
            "[1] Standard Errors assume that the covariance matrix of the errors is correctly specified.\n"
          ]
        }
      ],
      "source": [
        "import numpy as np\n",
        "import pandas as pd\n",
        "import matplotlib.pyplot as plt\n",
        "from sklearn.linear_model import LinearRegression\n",
        "from sklearn.metrics import mean_squared_error, r2_score\n",
        "import seaborn as sns\n",
        "import statsmodels.api as sm\n",
        "\n",
        "# df = pd.read_csv('/content/drive/MyDrive/Colab Notebooks/MLDS/Aula 2/runner.csv', sep='\\t')\n",
        "# df = pd.read_csv('/content/drive/MyDrive/Colab Notebooks/MLDS/Aula 2/visits.csv', sep='\\t')\n",
        "df = pd.read_csv('/content/drive/MyDrive/Colab Notebooks/MLDS/Aula 2/imc.csv', sep='\\t')\n",
        "df = df.dropna(how='any',axis=0)\n",
        "mean = df['imc'].mean()\n",
        "df['delta_imc'] = df['imc'] - mean\n",
        "df = df.loc[df['imc'] != 0]\n",
        "df = df.loc[df['sex'] == 'Masculino']\n",
        "\n",
        "df['drugs'] = df.apply(lambda row: 1 if row['drugs']=='yes' else 0, axis=1)\n",
        "df['alcohol'] = df.apply(lambda row: 1 if row['alcohol']=='yes' else 0, axis=1)\n",
        "df['tobacco'] = df.apply(lambda row: 1 if row['tobacco']=='yes' else 0, axis=1)\n",
        "df['drogas_geral'] = df.apply(lambda row: 1 if row['tobacco']==1 or row['drugs']==1 or row['alcohol']==1 else 0, axis=1)\n",
        "df['sex'] = df.apply( lambda row: 1 if row['sex']=='Masculino' else 0 , axis=1)\n",
        "df['parda'] = df.apply( lambda row: 1 if row['ethnicity']=='Parda' else 0 , axis=1)\n",
        "df['branca'] = df.apply( lambda row: 1 if row['ethnicity']=='Branca' else 0 , axis=1)\n",
        "df['negra'] = df.apply( lambda row: 1 if row['ethnicity']=='Negra' else 0 , axis=1)\n",
        "df['amarela'] = df.apply( lambda row: 1 if row['ethnicity']=='Amarela' else 0 , axis=1)\n",
        "df['negra_branca'] = df.apply(lambda row: 1 if row['negra']==1 or row['branca']==1 else 0, axis=1)\n",
        "\n",
        "model = LinearRegression(n_jobs=None, fit_intercept=True, copy_X=True)\n",
        "x = df[['drogas_geral','age','sex','negra_branca']].to_numpy()\n",
        "y = df['delta_imc'].to_numpy()\n",
        "\n",
        "model.fit(x, y)\n",
        "# FIT: gera os betas\n",
        "# model.predict([1,1,1,1,50,1,0,0,0])\n",
        "\n",
        "print(model.score(x, y))\n",
        "\n",
        "x = sm.add_constant(x)\n",
        "model = sm.OLS(y, x).fit()\n",
        "print(model.summary())\n",
        "\n",
        "# R2 = 0,068\n",
        "# R2 = 0,094\n",
        "# 50% a mais no meu R2\n"
      ]
    }
  ]
}